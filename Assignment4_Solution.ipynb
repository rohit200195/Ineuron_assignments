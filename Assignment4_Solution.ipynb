{
 "cells": [
  {
   "cell_type": "markdown",
   "metadata": {},
   "source": [
    "<h2>1.1 Write a Python Program(with class concepts) to find the area of the triangle using the below\n",
    "formula.\n",
    "area = (s*(s-a)*(s-b)*(s-c)) ** 0.5\n",
    "Function to take the length of the sides of triangle from user should be defined in the parent\n",
    "class and function to calculate the area should be defined in subclass.</h2>"
   ]
  },
  {
   "cell_type": "code",
   "execution_count": 102,
   "metadata": {},
   "outputs": [],
   "source": [
    "class Triangle:\n",
    "    def __init__(self,a,b,c):\n",
    "        self. a = float(a)\n",
    "        self. b = float(b)\n",
    "        self. c = float(c)\n",
    "\n",
    "class Area(Triangle):\n",
    "    def area1(self):\n",
    "        s=(self. a + self. b + self. c)/2.\n",
    "        return((s*(s-self. a)*(s-self. b)*(s-self. c))**0.5)"
   ]
  },
  {
   "cell_type": "code",
   "execution_count": 103,
   "metadata": {},
   "outputs": [
    {
     "data": {
      "text/plain": [
       "311.9269746270752"
      ]
     },
     "execution_count": 103,
     "metadata": {},
     "output_type": "execute_result"
    }
   ],
   "source": [
    "t = Area(35,24,26)\n",
    "t.area1()"
   ]
  },
  {
   "cell_type": "markdown",
   "metadata": {},
   "source": [
    "<h2>Write a function filter_long_words() that takes a list of words and an integer n and returns\n",
    "the list of words that are longer than n.</h2>"
   ]
  },
  {
   "cell_type": "code",
   "execution_count": 104,
   "metadata": {},
   "outputs": [],
   "source": [
    "def filter_long_words(l,num):\n",
    "    longer_words=[]\n",
    "    for n in l:\n",
    "        if (len(n))>num:\n",
    "            longer_words.append(n)\n",
    "    print('list of words greater than', num, 'are : ',longer_words)\n"
   ]
  },
  {
   "cell_type": "code",
   "execution_count": 105,
   "metadata": {},
   "outputs": [
    {
     "name": "stdout",
     "output_type": "stream",
     "text": [
      "list of words greater than 2 are :  ['abc', 'asdad']\n"
     ]
    }
   ],
   "source": [
    "filter_long_words(['abc','ad','asdad','a'],2)"
   ]
  },
  {
   "cell_type": "markdown",
   "metadata": {},
   "source": [
    "<h2>Write a Python program using function concept that maps list of words into a list of integers\n",
    "representing the lengths of the corresponding words.\n",
    "Hint: If a list [ ab,cde,erty] is passed on to the python function output should come as [2,3,4]\n",
    "Here 2,3 and 4 are the lengths of the words in the list.</h2>"
   ]
  },
  {
   "cell_type": "code",
   "execution_count": 106,
   "metadata": {},
   "outputs": [],
   "source": [
    "def map_Words_len():\n",
    "    input1 = input(\"Enter comma seperated values \")\n",
    "    input2 = input1.split(',')\n",
    "    return list(map(len, input2))"
   ]
  },
  {
   "cell_type": "code",
   "execution_count": 107,
   "metadata": {},
   "outputs": [
    {
     "name": "stdout",
     "output_type": "stream",
     "text": [
      "Enter comma seperated values aws,python,data,algorithm\n"
     ]
    },
    {
     "data": {
      "text/plain": [
       "[3, 6, 4, 9]"
      ]
     },
     "execution_count": 107,
     "metadata": {},
     "output_type": "execute_result"
    }
   ],
   "source": [
    "map_Words_len()"
   ]
  },
  {
   "cell_type": "markdown",
   "metadata": {},
   "source": [
    "<h2>Write a Python function which takes a character (i.e. a string of length 1) and returns True if\n",
    "it is a vowel, False otherwise.</h2>"
   ]
  },
  {
   "cell_type": "code",
   "execution_count": 108,
   "metadata": {},
   "outputs": [
    {
     "name": "stdout",
     "output_type": "stream",
     "text": [
      "Enter character to check that it is Vowel or not\n",
      "enter character : u\n",
      "Output Value: True\n"
     ]
    }
   ],
   "source": [
    "def vowel_checker(inputChar):\n",
    "    vowels = ['a','e','i','o','u']\n",
    "    output=''\n",
    "    if(len(inputChar)==1):\n",
    "        if (inputChar.lower() in vowels):\n",
    "            output= True\n",
    "        else:\n",
    "            output= False\n",
    "    else:\n",
    "        output = 'enter single character only'\n",
    "    \n",
    "    return output\n",
    "\n",
    "print(\"Enter character to check that it is Vowel or not\")\n",
    "\n",
    "input1 = input(\"enter character : \")\n",
    "\n",
    "output_value=vowel_checker(input1) \n",
    "print(\"Output Value:\",output_value)"
   ]
  },
  {
   "cell_type": "code",
   "execution_count": null,
   "metadata": {},
   "outputs": [],
   "source": []
  }
 ],
 "metadata": {
  "kernelspec": {
   "display_name": "Python 3",
   "language": "python",
   "name": "python3"
  },
  "language_info": {
   "codemirror_mode": {
    "name": "ipython",
    "version": 3
   },
   "file_extension": ".py",
   "mimetype": "text/x-python",
   "name": "python",
   "nbconvert_exporter": "python",
   "pygments_lexer": "ipython3",
   "version": "3.7.3"
  }
 },
 "nbformat": 4,
 "nbformat_minor": 4
}
